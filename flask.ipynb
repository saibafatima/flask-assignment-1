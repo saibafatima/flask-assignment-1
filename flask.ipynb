{
 "cells": [
  {
   "cell_type": "code",
   "execution_count": 1,
   "id": "7bc72cfd-0a0b-4532-a2b1-8f3004de585a",
   "metadata": {},
   "outputs": [
    {
     "ename": "SyntaxError",
     "evalue": "invalid syntax (464440627.py, line 3)",
     "output_type": "error",
     "traceback": [
      "\u001b[0;36m  Cell \u001b[0;32mIn[1], line 3\u001b[0;36m\u001b[0m\n\u001b[0;31m    Flask is a micro web framework written in Python. It is classified as a microframework because it does not require particular tools or libraries. It has no database abstraction layer, form validation, or any other components where pre-existing third-party libraries provide common functions.\u001b[0m\n\u001b[0m               ^\u001b[0m\n\u001b[0;31mSyntaxError\u001b[0m\u001b[0;31m:\u001b[0m invalid syntax\n"
     ]
    }
   ],
   "source": [
    "Q1. What is Flask Framework? What are the advantages of Flask Framework?\n",
    "\n",
    "Flask is a micro web framework written in Python. It is classified as a microframework because it does not require particular tools or libraries. It has no database abstraction layer, form validation, or any other components where pre-existing third-party libraries provide common functions.\n",
    "\n",
    "Advantages of Flask Framework:\n",
    "\n",
    "Lightweight: Flask is a microframework, which means it is lightweight and flexible.\n",
    "Flexible: Flask is highly flexible and can be used for building small to large-scale applications.\n",
    "Modular: Flask is modular, which means you can add or remove modules as per your requirement.\n",
    "Easy to Learn: Flask has a simple and easy-to-learn syntax.\n",
    "Extensive Libraries: Flask has extensive libraries that make it easy to build web applications.\n",
    "Unit Testing: Flask has built-in support for unit testing, which makes it easy to test your application.\n",
    "RESTful API: Flask is well-suited for building RESTful APIs."
   ]
  },
  {
   "cell_type": "code",
   "execution_count": 1,
   "id": "5700af08-7410-4e26-b9ae-af609585b7d9",
   "metadata": {},
   "outputs": [],
   "source": [
    "#Q2. Create a simple Flask application to display ‘Hello World!!’. Attach the screenshot of the output in Jupyter Notebook."
   ]
  },
  {
   "cell_type": "code",
   "execution_count": 10,
   "id": "51726037-0938-4c8b-a17e-9d7f84951ce4",
   "metadata": {},
   "outputs": [
    {
     "name": "stdout",
     "output_type": "stream",
     "text": [
      "Requirement already satisfied: Flask in /opt/conda/lib/python3.10/site-packages (3.0.3)\n",
      "Requirement already satisfied: Werkzeug>=3.0.0 in /opt/conda/lib/python3.10/site-packages (from Flask) (3.0.3)\n",
      "Requirement already satisfied: itsdangerous>=2.1.2 in /opt/conda/lib/python3.10/site-packages (from Flask) (2.2.0)\n",
      "Requirement already satisfied: blinker>=1.6.2 in /opt/conda/lib/python3.10/site-packages (from Flask) (1.8.2)\n",
      "Requirement already satisfied: Jinja2>=3.1.2 in /opt/conda/lib/python3.10/site-packages (from Flask) (3.1.2)\n",
      "Requirement already satisfied: click>=8.1.3 in /opt/conda/lib/python3.10/site-packages (from Flask) (8.1.3)\n",
      "Requirement already satisfied: MarkupSafe>=2.0 in /opt/conda/lib/python3.10/site-packages (from Jinja2>=3.1.2->Flask) (2.1.1)\n",
      "Note: you may need to restart the kernel to use updated packages.\n"
     ]
    }
   ],
   "source": [
    "pip install -U Flask"
   ]
  },
  {
   "cell_type": "code",
   "execution_count": null,
   "id": "0657b33d-cf9a-48de-aff6-96a1c134fd5c",
   "metadata": {},
   "outputs": [
    {
     "name": "stdout",
     "output_type": "stream",
     "text": [
      " * Serving Flask app '__main__'\n",
      " * Debug mode: off\n"
     ]
    },
    {
     "name": "stderr",
     "output_type": "stream",
     "text": [
      "WARNING: This is a development server. Do not use it in a production deployment. Use a production WSGI server instead.\n",
      " * Running on http://127.0.0.1:5001\n",
      "Press CTRL+C to quit\n"
     ]
    }
   ],
   "source": [
    "from flask import Flask\n",
    "\n",
    "app = Flask(__name__)\n",
    "\n",
    "@app.route('/')\n",
    "def home():\n",
    "    return \"\"\"\n",
    "    <h1>Company Details</h1>\n",
    "    <p>Company Name: ABC Corporation</p>\n",
    "    <p>Location: India</p>\n",
    "    <p>Contact Detail: 999-999-9999</p>\n",
    "    \"\"\"\n",
    "\n",
    "@app.route('/welcome')\n",
    "def welcome():\n",
    "    return '<h1>Welcome to ABC Corporation</h1>'\n",
    "\n",
    "if __name__ == '__main__':\n",
    "    app.run(port=5001)"
   ]
  },
  {
   "cell_type": "code",
   "execution_count": null,
   "id": "8a2eb814-2549-445f-8e94-577b05ae6252",
   "metadata": {},
   "outputs": [],
   "source": [
    "Q3. What is App routing in Flask? Why do we use app routes?\n",
    "\n",
    "App routing in Flask is a way to map URLs to specific functions or views. It is used to define the URLs that your application will respond to and what actions to take when a user visits those URLs.\n",
    "\n",
    "We use app routes to:\n",
    "\n",
    "Map URLs to Views: App routes are used to map URLs to specific views or functions.\n",
    "Handle HTTP Requests: App routes are used to handle HTTP requests such as GET, POST, PUT, DELETE, etc.\n",
    "Return Responses: App routes are used to return responses to the user, such as HTML pages, JSON data, etc."
   ]
  },
  {
   "cell_type": "code",
   "execution_count": null,
   "id": "28171997-b2ca-47b0-8237-76e1dd8bf157",
   "metadata": {},
   "outputs": [],
   "source": [
    "#Q4. Create a “/welcome” route to display the welcome message “Welcome to ABC Corporation” and a “/” route to show the following details: Company Name: ABC Corporation, Location: India, Contact Detail: 999-999-9999. Attach the screenshot of the output in Jupyter Notebook."
   ]
  },
  {
   "cell_type": "code",
   "execution_count": null,
   "id": "9c69d74e-d56f-48ab-88d1-4a3f621e657f",
   "metadata": {},
   "outputs": [],
   "source": [
    "from flask import Flask\n",
    "\n",
    "app = Flask(__name__)\n",
    "\n",
    "@app.route('/')\n",
    "def home():\n",
    "    return \"\"\"\n",
    "    <h1>Company Details</h1>\n",
    "    <p>Company Name: ABC Corporation</p>\n",
    "    <p>Location: India</p>\n",
    "    <p>Contact Detail: 999-999-9999</p>\n",
    "    \"\"\"\n",
    "\n",
    "@app.route('/welcome')\n",
    "def welcome():\n",
    "    return '<h1>Welcome to ABC Corporation</h1>'\n",
    "\n",
    "if __name__ == '__main__':\n",
    "    app.run()"
   ]
  },
  {
   "cell_type": "code",
   "execution_count": null,
   "id": "74f8aadc-27e9-4c03-96f1-4390564f307a",
   "metadata": {},
   "outputs": [],
   "source": [
    "#Q5. What function is used in Flask for URL Building? Write a Python code to demonstrate the working of the url_for() function."
   ]
  },
  {
   "cell_type": "code",
   "execution_count": null,
   "id": "1c7d78f1-2296-4915-aec6-78f8dc96be70",
   "metadata": {},
   "outputs": [],
   "source": [
    "from flask import Flask, url_for\n",
    "\n",
    "app = Flask(__name__)\n",
    "\n",
    "@app.route('/')\n",
    "def home():\n",
    "    return '<a href=\"%s\">Click here to go to welcome page</a>' % url_for('welcome')\n",
    "\n",
    "@app.route('/welcome')\n",
    "def welcome():\n",
    "    return '<h1>Welcome to ABC Corporation</h1>'\n",
    "\n",
    "if __name__ == '__main__':\n",
    "    app.run()"
   ]
  },
  {
   "cell_type": "code",
   "execution_count": null,
   "id": "66a5faee-762c-4d6e-8a24-aa71d2e8e29a",
   "metadata": {},
   "outputs": [],
   "source": []
  }
 ],
 "metadata": {
  "kernelspec": {
   "display_name": "Python 3 (ipykernel)",
   "language": "python",
   "name": "python3"
  },
  "language_info": {
   "codemirror_mode": {
    "name": "ipython",
    "version": 3
   },
   "file_extension": ".py",
   "mimetype": "text/x-python",
   "name": "python",
   "nbconvert_exporter": "python",
   "pygments_lexer": "ipython3",
   "version": "3.10.8"
  }
 },
 "nbformat": 4,
 "nbformat_minor": 5
}
